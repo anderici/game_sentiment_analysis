{
  "nbformat": 4,
  "nbformat_minor": 0,
  "metadata": {
    "colab": {
      "name": "sentiment_analysis.ipynb",
      "provenance": [],
      "collapsed_sections": []
    },
    "kernelspec": {
      "name": "python3",
      "display_name": "Python 3"
    }
  },
  "cells": [
    {
      "cell_type": "code",
      "metadata": {
        "id": "0fFEygtnQX_0"
      },
      "source": [
        "import pandas as pd\r\n",
        " \r\n",
        "#this assumes one json item per line in json file\r\n",
        "df=pd.read_csv(\"/content/teste.csv\", sep=';')"
      ],
      "execution_count": 110,
      "outputs": []
    },
    {
      "cell_type": "code",
      "metadata": {
        "colab": {
          "base_uri": "https://localhost:8080/"
        },
        "id": "YO5rLKfWXykb",
        "outputId": "28f0c073-4fcc-4116-f17f-10cb857c3095"
      },
      "source": [
        "df.dtypes"
      ],
      "execution_count": 111,
      "outputs": [
        {
          "output_type": "execute_result",
          "data": {
            "text/plain": [
              "titulo         object\n",
              "comentario     object\n",
              "classe        float64\n",
              "dtype: object"
            ]
          },
          "metadata": {
            "tags": []
          },
          "execution_count": 111
        }
      ]
    },
    {
      "cell_type": "code",
      "metadata": {
        "colab": {
          "base_uri": "https://localhost:8080/"
        },
        "id": "FoHho--2YR-F",
        "outputId": "c2a1841c-9114-40a3-c9d8-85d7bd59671e"
      },
      "source": [
        "#number of rows (datapoints)\r\n",
        "len(df)"
      ],
      "execution_count": 112,
      "outputs": [
        {
          "output_type": "execute_result",
          "data": {
            "text/plain": [
              "100"
            ]
          },
          "metadata": {
            "tags": []
          },
          "execution_count": 112
        }
      ]
    },
    {
      "cell_type": "code",
      "metadata": {
        "colab": {
          "base_uri": "https://localhost:8080/",
          "height": 343
        },
        "id": "rK7Egnr9YVNj",
        "outputId": "a30e6162-d562-438a-d327-a3cb4b64d957"
      },
      "source": [
        "df.sample(10)"
      ],
      "execution_count": 113,
      "outputs": [
        {
          "output_type": "execute_result",
          "data": {
            "text/html": [
              "<div>\n",
              "<style scoped>\n",
              "    .dataframe tbody tr th:only-of-type {\n",
              "        vertical-align: middle;\n",
              "    }\n",
              "\n",
              "    .dataframe tbody tr th {\n",
              "        vertical-align: top;\n",
              "    }\n",
              "\n",
              "    .dataframe thead th {\n",
              "        text-align: right;\n",
              "    }\n",
              "</style>\n",
              "<table border=\"1\" class=\"dataframe\">\n",
              "  <thead>\n",
              "    <tr style=\"text-align: right;\">\n",
              "      <th></th>\n",
              "      <th>titulo</th>\n",
              "      <th>comentario</th>\n",
              "      <th>classe</th>\n",
              "    </tr>\n",
              "  </thead>\n",
              "  <tbody>\n",
              "    <tr>\n",
              "      <th>59</th>\n",
              "      <td>Não compre este jogo! Pelo menos não agora!</td>\n",
              "      <td>Eu comprei este jogo para o meu PS4 padrão e e...</td>\n",
              "      <td>0.0</td>\n",
              "    </tr>\n",
              "    <tr>\n",
              "      <th>27</th>\n",
              "      <td>Recomendo</td>\n",
              "      <td>Gostei do jogo</td>\n",
              "      <td>1.0</td>\n",
              "    </tr>\n",
              "    <tr>\n",
              "      <th>50</th>\n",
              "      <td>NÃO COMPREM</td>\n",
              "      <td>O jogo está completamente injogável no PS4. Gr...</td>\n",
              "      <td>0.0</td>\n",
              "    </tr>\n",
              "    <tr>\n",
              "      <th>10</th>\n",
              "      <td>incrível</td>\n",
              "      <td>game chagou super rápido e a CD project é incr...</td>\n",
              "      <td>1.0</td>\n",
              "    </tr>\n",
              "    <tr>\n",
              "      <th>97</th>\n",
              "      <td>Muito ruim</td>\n",
              "      <td>Horrível. Bugado! Impossível de jogar, trava d...</td>\n",
              "      <td>0.0</td>\n",
              "    </tr>\n",
              "    <tr>\n",
              "      <th>34</th>\n",
              "      <td>Jogo Cyberpaunk</td>\n",
              "      <td>Muito bom. Chegou 15 dias antes do previsto. A...</td>\n",
              "      <td>1.0</td>\n",
              "    </tr>\n",
              "    <tr>\n",
              "      <th>21</th>\n",
              "      <td>Ótimo</td>\n",
              "      <td>Ótimo produto, entrega rápida, infelizmente o ...</td>\n",
              "      <td>1.0</td>\n",
              "    </tr>\n",
              "    <tr>\n",
              "      <th>44</th>\n",
              "      <td>Ótimo</td>\n",
              "      <td>Ótimo jogo ,. Ale a pena</td>\n",
              "      <td>1.0</td>\n",
              "    </tr>\n",
              "    <tr>\n",
              "      <th>89</th>\n",
              "      <td>O produto não é funcional</td>\n",
              "      <td>A desenvolvedora do jogo lançou um produto ina...</td>\n",
              "      <td>0.0</td>\n",
              "    </tr>\n",
              "    <tr>\n",
              "      <th>67</th>\n",
              "      <td>Jogo esta quebrado, mal otimizado.</td>\n",
              "      <td>Não comprem esse jogo para atual geração, ele ...</td>\n",
              "      <td>0.0</td>\n",
              "    </tr>\n",
              "  </tbody>\n",
              "</table>\n",
              "</div>"
            ],
            "text/plain": [
              "                                         titulo  ... classe\n",
              "59  Não compre este jogo! Pelo menos não agora!  ...    0.0\n",
              "27                                    Recomendo  ...    1.0\n",
              "50                                  NÃO COMPREM  ...    0.0\n",
              "10                                     incrível  ...    1.0\n",
              "97                                   Muito ruim  ...    0.0\n",
              "34                              Jogo Cyberpaunk  ...    1.0\n",
              "21                                        Ótimo  ...    1.0\n",
              "44                                        Ótimo  ...    1.0\n",
              "89                    O produto não é funcional  ...    0.0\n",
              "67           Jogo esta quebrado, mal otimizado.  ...    0.0\n",
              "\n",
              "[10 rows x 3 columns]"
            ]
          },
          "metadata": {
            "tags": []
          },
          "execution_count": 113
        }
      ]
    },
    {
      "cell_type": "code",
      "metadata": {
        "colab": {
          "base_uri": "https://localhost:8080/",
          "height": 360
        },
        "id": "pXYZsp6VYWja",
        "outputId": "046be5de-49c1-445d-d60a-44dfbc5c6f39"
      },
      "source": [
        "#titulo e comentário\r\n",
        "df['titulo_comentario'] = df['titulo'] + ' ' + df['comentario']\r\n",
        "\r\n",
        "df.sample(10)"
      ],
      "execution_count": 114,
      "outputs": [
        {
          "output_type": "execute_result",
          "data": {
            "text/html": [
              "<div>\n",
              "<style scoped>\n",
              "    .dataframe tbody tr th:only-of-type {\n",
              "        vertical-align: middle;\n",
              "    }\n",
              "\n",
              "    .dataframe tbody tr th {\n",
              "        vertical-align: top;\n",
              "    }\n",
              "\n",
              "    .dataframe thead th {\n",
              "        text-align: right;\n",
              "    }\n",
              "</style>\n",
              "<table border=\"1\" class=\"dataframe\">\n",
              "  <thead>\n",
              "    <tr style=\"text-align: right;\">\n",
              "      <th></th>\n",
              "      <th>titulo</th>\n",
              "      <th>comentario</th>\n",
              "      <th>classe</th>\n",
              "      <th>titulo_comentario</th>\n",
              "    </tr>\n",
              "  </thead>\n",
              "  <tbody>\n",
              "    <tr>\n",
              "      <th>13</th>\n",
              "      <td>Muito Bom!</td>\n",
              "      <td>Sinceramente, o jogo melhorou bastante depois ...</td>\n",
              "      <td>1.0</td>\n",
              "      <td>Muito Bom! Sinceramente, o jogo melhorou basta...</td>\n",
              "    </tr>\n",
              "    <tr>\n",
              "      <th>55</th>\n",
              "      <td>Impossível de ser jogado</td>\n",
              "      <td>FPS baixo, definição baixa, o jogo praticament...</td>\n",
              "      <td>0.0</td>\n",
              "      <td>Impossível de ser jogado FPS baixo, definição ...</td>\n",
              "    </tr>\n",
              "    <tr>\n",
              "      <th>93</th>\n",
              "      <td>Jogo tosco</td>\n",
              "      <td>Não consigo nem terminar o jogo de tanto bugs ...</td>\n",
              "      <td>0.0</td>\n",
              "      <td>Jogo tosco Não consigo nem terminar o jogo de ...</td>\n",
              "    </tr>\n",
              "    <tr>\n",
              "      <th>11</th>\n",
              "      <td>Que é um super jogo! Vale cada centavo :)</td>\n",
              "      <td>Melhor jogo!!! Entregue bem antes da data prev...</td>\n",
              "      <td>1.0</td>\n",
              "      <td>Que é um super jogo! Vale cada centavo :) Melh...</td>\n",
              "    </tr>\n",
              "    <tr>\n",
              "      <th>16</th>\n",
              "      <td>Gostei</td>\n",
              "      <td>Estou jogando no PS5 e tendo uma ótima experiê...</td>\n",
              "      <td>1.0</td>\n",
              "      <td>Gostei Estou jogando no PS5 e tendo uma ótima ...</td>\n",
              "    </tr>\n",
              "    <tr>\n",
              "      <th>51</th>\n",
              "      <td>Gráfico de Ps2 no Ps5</td>\n",
              "      <td>Jogo cheio de bugs e gráficos de PS2 em divers...</td>\n",
              "      <td>0.0</td>\n",
              "      <td>Gráfico de Ps2 no Ps5 Jogo cheio de bugs e grá...</td>\n",
              "    </tr>\n",
              "    <tr>\n",
              "      <th>61</th>\n",
              "      <td>COMPLETAMENTE CHEIO DE BUGS E DEFEITOS</td>\n",
              "      <td>JOGO É HORRIVEL, COMPLETAMENTE CHEIO DE PROBLE...</td>\n",
              "      <td>0.0</td>\n",
              "      <td>COMPLETAMENTE CHEIO DE BUGS E DEFEITOS JOGO É ...</td>\n",
              "    </tr>\n",
              "    <tr>\n",
              "      <th>33</th>\n",
              "      <td>Satisfeito.</td>\n",
              "      <td>Pré-venda Amazon sempre satisfatória.</td>\n",
              "      <td>1.0</td>\n",
              "      <td>Satisfeito. Pré-venda Amazon sempre satisfatória.</td>\n",
              "    </tr>\n",
              "    <tr>\n",
              "      <th>64</th>\n",
              "      <td>Injogavel no momento</td>\n",
              "      <td>O jogo tem muito potencial, mas infelizmente n...</td>\n",
              "      <td>0.0</td>\n",
              "      <td>Injogavel no momento O jogo tem muito potencia...</td>\n",
              "    </tr>\n",
              "    <tr>\n",
              "      <th>28</th>\n",
              "      <td>Qualidade da entrega</td>\n",
              "      <td>Chegou tudo bem perfeitinho. Muito obrigado pe...</td>\n",
              "      <td>1.0</td>\n",
              "      <td>Qualidade da entrega Chegou tudo bem perfeitin...</td>\n",
              "    </tr>\n",
              "  </tbody>\n",
              "</table>\n",
              "</div>"
            ],
            "text/plain": [
              "                                       titulo  ...                                  titulo_comentario\n",
              "13                                 Muito Bom!  ...  Muito Bom! Sinceramente, o jogo melhorou basta...\n",
              "55                   Impossível de ser jogado  ...  Impossível de ser jogado FPS baixo, definição ...\n",
              "93                                 Jogo tosco  ...  Jogo tosco Não consigo nem terminar o jogo de ...\n",
              "11  Que é um super jogo! Vale cada centavo :)  ...  Que é um super jogo! Vale cada centavo :) Melh...\n",
              "16                                     Gostei  ...  Gostei Estou jogando no PS5 e tendo uma ótima ...\n",
              "51                      Gráfico de Ps2 no Ps5  ...  Gráfico de Ps2 no Ps5 Jogo cheio de bugs e grá...\n",
              "61     COMPLETAMENTE CHEIO DE BUGS E DEFEITOS  ...  COMPLETAMENTE CHEIO DE BUGS E DEFEITOS JOGO É ...\n",
              "33                                Satisfeito.  ...  Satisfeito. Pré-venda Amazon sempre satisfatória.\n",
              "64                       Injogavel no momento  ...  Injogavel no momento O jogo tem muito potencia...\n",
              "28                       Qualidade da entrega  ...  Qualidade da entrega Chegou tudo bem perfeitin...\n",
              "\n",
              "[10 rows x 4 columns]"
            ]
          },
          "metadata": {
            "tags": []
          },
          "execution_count": 114
        }
      ]
    },
    {
      "cell_type": "code",
      "metadata": {
        "id": "jQGTwvfyXVq5"
      },
      "source": [
        "def _reciprocal_rank(true_labels: list, machine_preds: list):\r\n",
        "    \"\"\"Compute the reciprocal rank at cutoff k\"\"\"\r\n",
        "    \r\n",
        "    # add index to list only if machine predicted label exists in true labels\r\n",
        "    tp_pos_list = [(idx + 1) for idx, r in enumerate(machine_preds) if r in true_labels]\r\n",
        "\r\n",
        "    rr = 0\r\n",
        "    if len(tp_pos_list) > 0:\r\n",
        "        # for RR we need position of first correct item\r\n",
        "        first_pos_list = tp_pos_list[0]\r\n",
        "        \r\n",
        "        # rr = 1/rank\r\n",
        "        rr = 1 / float(first_pos_list)\r\n",
        "\r\n",
        "    return rr\r\n",
        "\r\n",
        "def compute_mrr_at_k(items:list):\r\n",
        "    \"\"\"Compute the MRR (average RR) at cutoff k\"\"\"\r\n",
        "    rr_total = 0\r\n",
        "    \r\n",
        "    for item in items:   \r\n",
        "        rr_at_k = _reciprocal_rank(item[0],item[1])\r\n",
        "        rr_total = rr_total + rr_at_k\r\n",
        "        mrr = rr_total / 1/float(len(items))\r\n",
        "\r\n",
        "    return mrr\r\n",
        "\r\n",
        "def collect_preds(Y_test,Y_preds):\r\n",
        "    \"\"\"Collect all predictions and ground truth\"\"\"\r\n",
        "    \r\n",
        "    pred_gold_list=[[[Y_test[idx]],pred] for idx,pred in enumerate(Y_preds)]\r\n",
        "    return pred_gold_list\r\n",
        "             \r\n",
        "def compute_accuracy(eval_items:list):\r\n",
        "    correct=0\r\n",
        "    total=0\r\n",
        "    \r\n",
        "    for item in eval_items:\r\n",
        "        true_pred=item[0]\r\n",
        "        machine_pred=set(item[1])\r\n",
        "        \r\n",
        "        for cat in true_pred:\r\n",
        "            if cat in machine_pred:\r\n",
        "                correct+=1\r\n",
        "                break\r\n",
        "    \r\n",
        "    \r\n",
        "    accuracy=correct/float(len(eval_items))\r\n",
        "    return accuracy"
      ],
      "execution_count": 115,
      "outputs": []
    },
    {
      "cell_type": "code",
      "metadata": {
        "id": "Ga5d3KhRYgEC"
      },
      "source": [
        "from sklearn.metrics import precision_recall_fscore_support\r\n",
        "from sklearn.model_selection import train_test_split\r\n",
        "from sklearn.linear_model import LogisticRegression\r\n",
        "from sklearn.feature_extraction.text import CountVectorizer,TfidfVectorizer\r\n",
        "\r\n",
        "import numpy as np\r\n",
        "import logging\r\n",
        "\r\n",
        "logging.basicConfig(format='%(asctime)s : %(levelname)s : %(message)s', level=logging.INFO)\r\n",
        "\r\n",
        "def extract_features(df,field,training_data,testing_data,type=\"binary\"):\r\n",
        "    \"\"\"Extract features using different methods\"\"\"\r\n",
        "    \r\n",
        "    logging.info(\"Extracting features and creating vocabulary...\")\r\n",
        "    \r\n",
        "    if \"binary\" in type:\r\n",
        "        \r\n",
        "        # BINARY FEATURE REPRESENTATION\r\n",
        "        cv= CountVectorizer(binary=True, max_df=0.95)\r\n",
        "        cv.fit_transform(training_data[field].values)\r\n",
        "        \r\n",
        "        train_feature_set=cv.transform(training_data[field].values)\r\n",
        "        test_feature_set=cv.transform(testing_data[field].values)\r\n",
        "        \r\n",
        "        return train_feature_set,test_feature_set,cv\r\n",
        "  \r\n",
        "    elif \"counts\" in type:\r\n",
        "        \r\n",
        "        # COUNT BASED FEATURE REPRESENTATION\r\n",
        "        cv= CountVectorizer(binary=False, max_df=0.95)\r\n",
        "        cv.fit_transform(training_data[field].values)\r\n",
        "        \r\n",
        "        train_feature_set=cv.transform(training_data[field].values)\r\n",
        "        test_feature_set=cv.transform(testing_data[field].values)\r\n",
        "        \r\n",
        "        return train_feature_set,test_feature_set,cv\r\n",
        "    \r\n",
        "    else:    \r\n",
        "        print('Using TF-IDF')\r\n",
        "        # TF-IDF BASED FEATURE REPRESENTATION\r\n",
        "        tfidf_vectorizer=TfidfVectorizer(use_idf=True, max_df=0.95)\r\n",
        "        tfidf_vectorizer.fit_transform(training_data[field].values)\r\n",
        "        \r\n",
        "        train_feature_set=tfidf_vectorizer.transform(training_data[field].values)\r\n",
        "        test_feature_set=tfidf_vectorizer.transform(testing_data[field].values)\r\n",
        "        \r\n",
        "        return train_feature_set,test_feature_set,tfidf_vectorizer\r\n",
        "\r\n",
        "def get_top_k_predictions(model,X_test,k=1):\r\n",
        "    \r\n",
        "    # get probabilities instead of predicted labels, since we want to collect top 3\r\n",
        "    probs = model.predict_proba(X_test)\r\n",
        "\r\n",
        "    # GET TOP K PREDICTIONS BY PROB - note these are just index\r\n",
        "    best_n = np.argsort(probs, axis=1)[:,-k:]\r\n",
        "    \r\n",
        "    # GET CATEGORY OF PREDICTIONS\r\n",
        "    preds=[[model.classes_[predicted_cat] for predicted_cat in prediction] for prediction in best_n]\r\n",
        "    \r\n",
        "    preds=[ item[::-1] for item in preds]\r\n",
        "    \r\n",
        "    return preds\r\n",
        "   \r\n",
        "    \r\n",
        "def train_model(df,field=\"text_desc\",feature_rep=\"binary\",top_k=1):\r\n",
        "    \r\n",
        "    print(\"Starting model training...\")\r\n",
        "    \r\n",
        "    # GET A TRAIN TEST SPLIT (set seed for consistent results)\r\n",
        "    training_data, testing_data = train_test_split(df,random_state = 2000,)\r\n",
        "\r\n",
        "    # GET LABELS\r\n",
        "    Y_train=training_data['classe'].values\r\n",
        "    Y_test=testing_data['classe'].values\r\n",
        "     \r\n",
        "    # GET FEATURES\r\n",
        "    X_train,X_test,feature_transformer=extract_features(df,field,training_data,testing_data,type=feature_rep)\r\n",
        "\r\n",
        "    # INIT LOGISTIC REGRESSION CLASSIFIER\r\n",
        "    print(\"Training a Logistic Regression Model...\")\r\n",
        "    #scikit_log_reg = LogisticRegression(verbose=1, solver='liblinear',random_state=0, C=5, penalty='l2',max_iter=1000)\r\n",
        "    scikit_log_reg = LogisticRegression()\r\n",
        "    model=scikit_log_reg.fit(X_train,Y_train)\r\n",
        "    \r\n",
        "\r\n",
        "    # GET TOP K PREDICTIONS\r\n",
        "    preds=get_top_k_predictions(model,X_test,top_k)\r\n",
        "    \r\n",
        "    # GET PREDICTED VALUES AND GROUND TRUTH INTO A LIST OF LISTS - for ease of evaluation\r\n",
        "    eval_items=collect_preds(Y_test,preds)\r\n",
        "    \r\n",
        "    # GET EVALUATION NUMBERS ON TEST SET -- HOW DID WE DO?\r\n",
        "    print(\"Starting evaluation...\")\r\n",
        "    accuracy=compute_accuracy(eval_items)\r\n",
        "    mrr_at_k=compute_mrr_at_k(eval_items)\r\n",
        "    \r\n",
        "    print(\"Done training and evaluation.\")\r\n",
        "    \r\n",
        "    return model,feature_transformer,accuracy,mrr_at_k\r\n",
        "    #return model,feature_transformer"
      ],
      "execution_count": 151,
      "outputs": []
    },
    {
      "cell_type": "code",
      "metadata": {
        "colab": {
          "base_uri": "https://localhost:8080/"
        },
        "id": "IxV7U4WOYihD",
        "outputId": "5fcb411c-49df-4e27-cb3d-7cf46b7bad98"
      },
      "source": [
        "field='titulo_comentario'\r\n",
        "feature_rep='counts'\r\n",
        "\r\n",
        "model,transformer,accuracy,mrr_at_k=train_model(df,field=field,feature_rep=feature_rep,top_k=1)\r\n",
        "print(\"\\nAccuracy={0}; MRR={1}\".format(accuracy,mrr_at_k))\r\n",
        "#model,transformer=train_model(df,field=field,feature_rep=feature_rep)"
      ],
      "execution_count": 154,
      "outputs": [
        {
          "output_type": "stream",
          "text": [
            "2021-02-04 17:48:55,889 : INFO : Extracting features and creating vocabulary...\n"
          ],
          "name": "stderr"
        },
        {
          "output_type": "stream",
          "text": [
            "Starting model training...\n",
            "Training a Logistic Regression Model...\n",
            "Starting evaluation...\n",
            "Done training and evaluation.\n",
            "\n",
            "Accuracy=0.84; MRR=0.84\n"
          ],
          "name": "stdout"
        }
      ]
    },
    {
      "cell_type": "code",
      "metadata": {
        "id": "oTpx95O3hayV",
        "colab": {
          "base_uri": "https://localhost:8080/"
        },
        "outputId": "647d5558-063c-4adf-b0f6-07554c296d35"
      },
      "source": [
        "test_features=transformer.transform([\"O jogo está péssimo\"])\r\n",
        "preds = get_top_k_predictions(model,test_features,1)\r\n",
        "\r\n",
        "if preds[0][0] == 0.0:\r\n",
        "  print('Comentário ruim')\r\n",
        "else:\r\n",
        "  print('Comentário bom')"
      ],
      "execution_count": 159,
      "outputs": [
        {
          "output_type": "stream",
          "text": [
            "Comentário ruim\n"
          ],
          "name": "stdout"
        }
      ]
    },
    {
      "cell_type": "code",
      "metadata": {
        "id": "JN8V-WODfqy7"
      },
      "source": [
        ""
      ],
      "execution_count": null,
      "outputs": []
    }
  ]
}